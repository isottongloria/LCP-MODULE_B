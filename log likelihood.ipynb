{
 "cells": [
  {
   "cell_type": "markdown",
   "metadata": {},
   "source": [
    "# Log-Likelihood"
   ]
  },
  {
   "cell_type": "code",
   "execution_count": null,
   "metadata": {},
   "outputs": [],
   "source": [
    "def energy(v,h,w,a,b):\n",
    "    eng = - np.dot(v.T@w,h) - np.dot(a,v) - np.dot(b,h)\n",
    "    return eng\n",
    "\n",
    "def Z(v,h,w,a,b):\n",
    "    z=0\n",
    "    for i in range v:\n",
    "        for j in range h:\n",
    "             z+=np.exp(-energy(i,j,w,a,b))\n",
    "    return z\n",
    "\n",
    "def P(v,h,w,a,b):\n",
    "    p=0\n",
    "    for i in v:\n",
    "        h_sum=0\n",
    "        for j in h:\n",
    "            h_sum += np.exp(-energy(i,j,w,a,b))\n",
    "        p += np.log(h_sum)\n",
    "    dist= p/v.shape[0]\n",
    "    return dist\n",
    "            \n",
    "\n",
    "def log_likelihood(v, h, w, a, b):\n",
    "    \n",
    "    L = P(v,h,w,a,b) -np.log(Z(v,h,w,a,b))\n",
    "    return L"
   ]
  }
 ],
 "metadata": {
  "kernelspec": {
   "display_name": "Python 3",
   "language": "python",
   "name": "python3"
  },
  "language_info": {
   "codemirror_mode": {
    "name": "ipython",
    "version": 3
   },
   "file_extension": ".py",
   "mimetype": "text/x-python",
   "name": "python",
   "nbconvert_exporter": "python",
   "pygments_lexer": "ipython3",
   "version": "3.8.10"
  }
 },
 "nbformat": 4,
 "nbformat_minor": 2
}
