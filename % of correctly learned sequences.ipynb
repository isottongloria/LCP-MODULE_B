{
 "cells": [
  {
   "cell_type": "markdown",
   "id": "5be08855",
   "metadata": {},
   "source": [
    "# % of correct sequences"
   ]
  },
  {
   "cell_type": "code",
   "execution_count": null,
   "id": "be273218",
   "metadata": {},
   "outputs": [],
   "source": [
    "#Vf is a matrix composed by 10^4  sequences of lenght 20\n",
    "#this function detects if a sequence is right or not\n",
    "#right sequences [p-n-p-n-p] or [n-p-n-p-n]\n",
    "#p=[01-00] or [10-00]\n",
    "#n=[00-01] or [00-10]\n",
    "\n",
    "def select_block_polar(Vf,r):      #This function selects only the FIRST half of the blocks 1,3 and 5 \n",
    "    block_1 = Vf[r][0:2] \n",
    "    block_3 = Vf[r][8:10]\n",
    "    block_5= Vf[r][16:18]\n",
    "    return (block_1,block_3,block_5)\n",
    "\n",
    "def select_block_npolar(Vf,r):      #This function selects only the SECOND half of the blocks 1,3 and 5 \n",
    "    block_1 = Vf[r][2:4] \n",
    "    block_3 = Vf[r][10:12]\n",
    "    block_5= Vf[r][18:20]\n",
    "    return (block_1,block_3,block_5)\n",
    "\n",
    "def fracion_unlearned(Vf):\n",
    "    \n",
    "    C=0 #number of correctly learned sequences\n",
    "    for r in range(0, Vf.shape[0]):\n",
    "        block_1,block_3,block_5=select_block_polar(Vf,r)\n",
    "        if (block_1== 1).sum() == 1 and (block_3== 1).sum() == 1 and (block_5== 1).sum() == 1: C=C+1\n",
    "\n",
    "    for r in range(0, Vf.shape[0]):\n",
    "        block_1,block_2,block_3=select_block_npolar(Vf,r)\n",
    "        if (block_1== 1).sum() == 1 and (block_3== 1).sum() == 1 and (block_5== 1).sum() == 1: C=C+1\n",
    "    \n",
    "    R=C/Vf.shape[0]*100\n",
    "    print('The fraction of correct sequences in output of the RBM is: ', R , '%')\n",
    "    \n",
    "    return R\n",
    "\n",
    "R= fracion_unlearned(Vf) #THIS IS THE WAY TO COMPUTE THE FRACTION OF WRONG SAMPLES"
   ]
  }
 ],
 "metadata": {
  "kernelspec": {
   "display_name": "Python 3 (ipykernel)",
   "language": "python",
   "name": "python3"
  },
  "language_info": {
   "codemirror_mode": {
    "name": "ipython",
    "version": 3
   },
   "file_extension": ".py",
   "mimetype": "text/x-python",
   "name": "python",
   "nbconvert_exporter": "python",
   "pygments_lexer": "ipython3",
   "version": "3.8.3"
  }
 },
 "nbformat": 4,
 "nbformat_minor": 5
}
