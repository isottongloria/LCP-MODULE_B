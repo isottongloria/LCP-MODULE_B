{
 "cells": [
  {
   "cell_type": "markdown",
   "id": "2ec3bec7",
   "metadata": {},
   "source": [
    "# Hidden Markov Models"
   ]
  },
  {
   "cell_type": "markdown",
   "id": "af373bd2",
   "metadata": {},
   "source": [
    "## Generating data"
   ]
  },
  {
   "cell_type": "code",
   "execution_count": 41,
   "id": "f23172d8",
   "metadata": {},
   "outputs": [],
   "source": [
    "import numpy as np\n",
    "import matplotlib.pyplot as plt"
   ]
  },
  {
   "cell_type": "code",
   "execution_count": 42,
   "id": "003c3fe2",
   "metadata": {},
   "outputs": [],
   "source": [
    "#let's say we have only two hidden states\n",
    "z_val = np.array([0,1])\n",
    "\n",
    "prob = np.array([.5,.5])\n",
    "A = np.array([[.98,.02],[.02,.98]]) #transition matrix\n",
    "B_pars = np.array([[0,.5],[5,.5]])"
   ]
  },
  {
   "cell_type": "code",
   "execution_count": 43,
   "id": "e193b66b",
   "metadata": {},
   "outputs": [
    {
     "name": "stdout",
     "output_type": "stream",
     "text": [
      "150\n"
     ]
    }
   ],
   "source": [
    "def gaussian(x,mu,sigma):\n",
    "    return (1/(sigma*np.sqrt(2*np.pi)))*np.exp(-((x-mu)**2)/(2*sigma**2))\n",
    "\n",
    "xt = np.arange(-5,10,.1)\n",
    "y1=[]\n",
    "y2=[]\n",
    "for i in range(len(xt)):\n",
    "    y1.append(gaussian(xt[i],B_pars[0][0], B_pars[0][1]))\n",
    "    y2.append(gaussian(xt[i],B_pars[1][0], B_pars[1][1]))\n",
    "    \n",
    "plt.plot(xt,y1)\n",
    "plt.plot(xt,y2)\n",
    "print(len(xt))"
   ]
  },
  {
   "cell_type": "code",
   "execution_count": 44,
   "id": "0c4d00c1",
   "metadata": {},
   "outputs": [],
   "source": [
    "def generate_initial_state(N, prob, B_pars):\n",
    "    z = np.empty((N)) #hidden state sequence\n",
    "    x = np.empty((N)) #observations\n",
    "    \n",
    "    #Generating first state and emission\n",
    "    r = np.random.random()\n",
    "    z[0] = np.where(r <= prob[0], 0, 1)\n",
    "    x[0] = np.random.normal(loc=B_pars[0][0], scale=B_pars[0][1])\n",
    "\n",
    "    return z, x\n",
    "\n",
    "def generate_sequence(N, z, x, c, B_pars):\n",
    "    for i in range(1, N):\n",
    "        a = np.random.random()\n",
    "        if z[i-1] == 0:\n",
    "            z[i] = np.where(a <= c[0], 0, 1)\n",
    "            x[i] = np.random.normal(loc=B_pars[0][0], scale=B_pars[0][1])\n",
    "        else:\n",
    "            z[i] = np.where(a <= c[1], 1, 0)\n",
    "            x[i] = np.random.normal(loc=B_pars[1][0], scale=B_pars[1][1])\n",
    "    return z, x\n"
   ]
  },
  {
   "cell_type": "code",
   "execution_count": 45,
   "id": "7811fc90",
   "metadata": {},
   "outputs": [],
   "source": [
    "N = 100 #length of sequence\n",
    "c = np.array([A[0,0],A[1,1]])# Transition probabilities\n",
    "\n",
    "#generate the arrays z and x for the hidden state sequence and observations\n",
    "z,x=generate_initial_state(N, prob, B_pars)\n",
    "z,x=generate_sequence(N, z, x, c, B_pars)"
   ]
  },
  {
   "cell_type": "code",
   "execution_count": 46,
   "id": "6ed79471",
   "metadata": {},
   "outputs": [
    {
     "data": {
      "text/plain": [
       "[<matplotlib.lines.Line2D at 0x7fa4dd131a00>]"
      ]
     },
     "execution_count": 46,
     "metadata": {},
     "output_type": "execute_result"
    }
   ],
   "source": [
    "plt.figure(figsize=(8,8))\n",
    "plt.plot(np.arange(0,N,1),x[:N])"
   ]
  },
  {
   "cell_type": "code",
   "execution_count": 47,
   "id": "e85023fa",
   "metadata": {},
   "outputs": [
    {
     "name": "stdout",
     "output_type": "stream",
     "text": [
      "[ 5.74683934 -0.13415026 -0.97854171 -1.16287575 -0.03146137  0.31576852\n",
      "  0.12475215 -0.98157641 -0.22035203 -0.20558185]\n"
     ]
    }
   ],
   "source": [
    "x_0 = x[np.where(z==0)]\n",
    "print(x_0[:10])"
   ]
  },
  {
   "cell_type": "code",
   "execution_count": 48,
   "id": "e89fe6ad",
   "metadata": {},
   "outputs": [
    {
     "data": {
      "text/plain": [
       "[<matplotlib.lines.Line2D at 0x7fa4dce8e400>]"
      ]
     },
     "execution_count": 48,
     "metadata": {},
     "output_type": "execute_result"
    }
   ],
   "source": [
    "plt.hist(x_0, bins=70, range=(-5,10), density=True)\n",
    "plt.plot(xt,y1,color='red')"
   ]
  },
  {
   "cell_type": "code",
   "execution_count": 49,
   "id": "269e1adb",
   "metadata": {},
   "outputs": [],
   "source": [
    "#unique_0, counts_0 = np.unique(x_0, return_counts=True)"
   ]
  },
  {
   "cell_type": "code",
   "execution_count": 50,
   "id": "ca1ef483",
   "metadata": {},
   "outputs": [],
   "source": [
    "#plt.plot(unique_0,counts_0,'o')"
   ]
  },
  {
   "cell_type": "code",
   "execution_count": 51,
   "id": "3eb57770",
   "metadata": {},
   "outputs": [
    {
     "data": {
      "text/plain": [
       "0.07784918102058348"
      ]
     },
     "execution_count": 51,
     "metadata": {},
     "output_type": "execute_result"
    }
   ],
   "source": [
    "x_0.mean()"
   ]
  },
  {
   "cell_type": "code",
   "execution_count": 52,
   "id": "2ecc188d",
   "metadata": {},
   "outputs": [],
   "source": [
    "x_1 = x[np.where(z==1)]"
   ]
  },
  {
   "cell_type": "code",
   "execution_count": 53,
   "id": "d106eeff",
   "metadata": {},
   "outputs": [
    {
     "data": {
      "text/plain": [
       "[<matplotlib.lines.Line2D at 0x7fa4dce109d0>]"
      ]
     },
     "execution_count": 53,
     "metadata": {},
     "output_type": "execute_result"
    }
   ],
   "source": [
    "plt.hist(x_1, bins=70, range=(-5,10), density=True)\n",
    "plt.plot(xt,y2,color='red')"
   ]
  },
  {
   "cell_type": "code",
   "execution_count": 54,
   "id": "7d411bbc",
   "metadata": {},
   "outputs": [],
   "source": [
    "#plt.plot(unique_1,counts_1,'o')"
   ]
  },
  {
   "cell_type": "code",
   "execution_count": 55,
   "id": "5c151ac3",
   "metadata": {},
   "outputs": [
    {
     "data": {
      "text/plain": [
       "4.6752336484668255"
      ]
     },
     "execution_count": 55,
     "metadata": {},
     "output_type": "execute_result"
    }
   ],
   "source": [
    "x_1.mean()"
   ]
  },
  {
   "cell_type": "code",
   "execution_count": null,
   "id": "41463dfb",
   "metadata": {},
   "outputs": [],
   "source": []
  },
  {
   "cell_type": "markdown",
   "id": "2e140425",
   "metadata": {},
   "source": [
    "## Forward and backward algorithm\n",
    "The forward and backward algorithm are dynamic programming algorithms that compute the probability of observing a sequence of observations given an HMM. The forward algorithm works by computing the alpha values recursively using the initial probabilities, transition probabilities, and observation probabilities of the HMM. The backward algorithm proceeds in a similar way but it starts from the last time step, working backwards.\n",
    "\n",
    "The alpha variable represents the probability of observing the first t observations and being in state i at time t:\n",
    "\\begin{equation}\n",
    "\\alpha_t(i) = P(x_{1:t}, z_t = i)\n",
    "\\end{equation}\n",
    "where $x_{1:t}$ are the first t observations, $z_t$ is the state at time t.\n",
    "\n",
    "The beta variable represents the probability of observing the remaining observations from time t+1 to the end, given that we are in state i at time t: \n",
    "\\begin{equation}\n",
    "\\beta_t(i) = P(x_{t+1:T} | z_t = i)\n",
    "\\end{equation}\n",
    "where $x_{t+1:T}$ are the remaining observations after time t.\n",
    "The alpha and beta variable are typically computed recursively using the following formulas:\n",
    "\n",
    "\\begin{equation}\n",
    "\\alpha_{t}(j) = \\sum_{i=1}^{N} \\alpha_{t-1}(i) a_{ij} b_j(z_{t+1})\n",
    "\\end{equation}\n",
    "\n",
    "\\begin{equation}\n",
    "\\beta_t(i) = \\sum_{j=1}^{N} a_{ij} b_j(x_{t+1}) \\beta_{t+1}(j)\n",
    "\\end{equation}\n",
    "\n",
    "where $N$ is the number of states in the HMM, $a_{ij}$ is the probability of transitioning from state i to state j, $b_j(x_{t+1})$ is the probability of observing the next observation $x_{t+1}$ given that we are in state j. The $\\alpha_t(i)$ term is the alpha value for state i at time t and $\\beta_{t+1}(j)$ is the beta value for state j at time $t+1$."
   ]
  },
  {
   "cell_type": "markdown",
   "id": "2f39eaa0",
   "metadata": {},
   "source": [
    "## Gamma and Psi\n",
    "\\begin{equation}\n",
    "\\gamma_t(i) = \\frac{\\alpha_t(i)\\beta_t(i)}{\\sum_{j=1}^{N}\\alpha_t(j)\\beta_t(j)}\n",
    "\\end{equation}\n",
    "\n",
    "where $N$ is the number of states in the HMM, $\\alpha_t(i)$ is computed at time $t$ and state $i$, and $\\beta_t(i)$ is computed at time $t$ and state $i$. This formula computes the probability of being in state $i$ at time $t$, given the observed sequence and the HMM parameters.\n",
    "\n",
    "The formula for the psi value at time step $t$, current state $i$, and next state $j$ is:\n",
    "\n",
    "\\begin{equation}\n",
    "\\psi_t(i,j) = \\frac{\\alpha_t(i)a_{ij}b_j(x_{t+1})\\beta_{t+1}(j)}{\\sum_{i=1}^{N}\\sum_{j=1}^{N}\\alpha_t(i)a_{ij}b_j(x_{t+1})\\beta_{t+1}(j)}\n",
    "\\end{equation}\n",
    "\n",
    "where $N$ is the number of states in the HMM, $a_{ij}$ is the transition probability from state $i$ to state $j$, $b_j(x_{t+1})$ is the emission probability of the observation $x_{t+1}$ given state $j$, and $\\beta_{t+1}(j)$ is the backward variable at time $t+1$ and state $j$. "
   ]
  },
  {
   "cell_type": "code",
   "execution_count": 56,
   "id": "c72e9c32",
   "metadata": {},
   "outputs": [],
   "source": [
    "A = np.array([[.98,.02],[.02,.98]]) #transition matrix\n",
    "\n",
    "def calculate_emission_matrix(B_pars, x):\n",
    "    b = np.zeros((2, len(x)))# Create emission probability matrix b\n",
    "    T=len(x)\n",
    "    for i in range(T):\n",
    "        b[0, i] = gaussian(x[i], B_pars[0][0], B_pars[0][1])\n",
    "        b[1, i] = gaussian(x[i], B_pars[1][0], B_pars[1][1])\n",
    "    return b\n",
    "\n",
    "\n",
    "def forward_algorithm(x, A, b, pi=prob[0]):\n",
    "    # x: observed sequence (array of shape (T,))\n",
    "    # A: transition probability matrix (array of shape (2, 2))\n",
    "    # b: emission probability matrix (array of shape (2, T))\n",
    "    # pi: initial state distribution (array of shape (2,))\n",
    "    # returns: alpha, the forward variable (array of shape (2, T))\n",
    "\n",
    "    T = len(x)\n",
    "    alpha = np.zeros((2, T))\n",
    "\n",
    "    # initialization of the first alpha\n",
    "    alpha[:, 0] = pi * b[:, 0]\n",
    "\n",
    "    # recursion\n",
    "    for t in range(1, T):\n",
    "        for j in range(2):\n",
    "            alpha[j, t] = np.sum(alpha[:, t-1] * A[:, j]) * b[j, t]\n",
    "\n",
    "    return alpha\n",
    "\n",
    "\n",
    "def backward_algorithm(x, A, b):\n",
    "    # x: observed sequence (array of shape (T,))\n",
    "    # A: transition probability matrix (array of shape (2, 2))\n",
    "    # b: emission probability matrix (array of shape (2, T))\n",
    "    # returns: beta, the backward variable (array of shape (2, T))\n",
    "\n",
    "    T = len(x)\n",
    "    beta = np.zeros((2, T))\n",
    "\n",
    "    # initialization of the last beta\n",
    "    #we assume that in the HMM the probability of observing the last observation given any state at time T is 1\n",
    "    #Here -1 index represents the last column of the matrix, regardless of the total number of columns\n",
    "    beta[:, -1] = 1\n",
    "\n",
    "    # recursion\n",
    "    for t in range(T-2, -1, -1):\n",
    "        for j in range(2):\n",
    "            beta[j, t] = np.sum(beta[:, t+1]*A[j, :]*b[:, t+1])\n",
    "\n",
    "    return beta"
   ]
  },
  {
   "cell_type": "code",
   "execution_count": 57,
   "id": "0618b9e9",
   "metadata": {},
   "outputs": [],
   "source": [
    "b=calculate_emission_matrix(B_pars, x)\n",
    "alphas=forward_algorithm(x, A, b, pi=prob[0])\n",
    "betas =backward_algorithm(x, A, b)"
   ]
  },
  {
   "cell_type": "code",
   "execution_count": 58,
   "id": "beb21433",
   "metadata": {},
   "outputs": [
    {
     "name": "stdout",
     "output_type": "stream",
     "text": [
      "[1. 1. 1. 1. 1. 1. 1. 1. 1. 1. 1. 1. 1. 1. 1. 1. 1. 1. 1. 1. 1. 1. 1. 1.\n",
      " 1. 1. 0. 0. 0. 0. 0. 0. 0. 0. 0. 0. 0. 0. 0. 0. 0. 0. 0. 0. 0. 0. 0. 0.\n",
      " 0. 0. 0. 0. 0. 0. 0. 0. 0. 0. 0. 0. 0. 0. 0. 0. 0. 0. 0. 0. 0. 0. 0. 0.\n",
      " 0. 0. 0. 0. 0. 0. 0. 0. 0. 0. 0. 0. 0. 0. 0. 0. 0. 0. 1. 1. 1. 1. 1. 1.\n",
      " 1. 1. 1. 1.]\n"
     ]
    }
   ],
   "source": [
    "print(z)"
   ]
  },
  {
   "cell_type": "code",
   "execution_count": 59,
   "id": "bba5ed32",
   "metadata": {
    "scrolled": true
   },
   "outputs": [
    {
     "name": "stdout",
     "output_type": "stream",
     "text": [
      "[[3.81169531e-02 4.37734600e-15 6.88275538e-31 8.82390212e-27\n",
      "  5.04985540e-27 2.94175064e-34 2.25417135e-34 7.26677649e-31\n",
      "  8.86662244e-24 2.64651976e-25 2.19393159e-34 1.10314707e-32\n",
      "  7.99397751e-33 1.51537324e-31 2.61052728e-29 3.89197827e-32\n",
      "  4.15371178e-33 2.10219620e-38 4.43000155e-28 2.53988924e-23\n",
      "  2.02801708e-44 1.19645457e-28 1.46096240e-36 9.33286272e-32\n",
      "  1.91687326e-37 3.74947507e-47 6.96286888e-45 8.35624400e-17\n",
      "  9.62642877e-18 5.03565356e-19 3.92972569e-19 2.51722235e-19\n",
      "  1.90796226e-19 2.17198685e-20 1.54116443e-20 1.10740164e-20\n",
      "  8.47877782e-21 2.56524073e-21 1.24579552e-21 7.24224985e-22\n",
      "  5.66257338e-22 2.00828396e-22 1.56610975e-22 6.21282070e-23\n",
      "  2.83416173e-23 2.19909481e-23 1.38805271e-23 1.06852401e-23\n",
      "  8.23554505e-24 6.04058106e-24 3.37344807e-24 2.80319039e-25\n",
      "  2.19035708e-25 1.59488890e-25 7.60643517e-26 4.62995329e-26\n",
      "  3.60407289e-26 2.75425394e-26 2.14758753e-26 1.22110336e-26\n",
      "  1.50713099e-27 1.16571448e-27 9.01744870e-28 5.96577311e-28\n",
      "  1.07605450e-28 8.03029796e-29 3.49753287e-29 2.42164660e-29\n",
      "  9.70303218e-30 6.16188386e-30 4.59518929e-30 1.78133528e-30\n",
      "  1.39028956e-30 1.10926868e-31 7.31784565e-32 5.57670328e-32\n",
      "  4.06044575e-32 6.92640751e-34 4.11251164e-34 1.04875103e-35\n",
      "  3.02632638e-36 2.11901287e-36 1.34199523e-36 3.65450333e-37\n",
      "  7.49375745e-40 5.42964872e-40 3.89281465e-40 2.14600481e-40\n",
      "  1.66335916e-40 1.28416302e-40 1.37858243e-41 6.70236546e-70\n",
      "  2.93773244e-72 4.58367253e-71 9.15315118e-72 3.22426595e-62\n",
      "  5.40290954e-67 8.90091926e-66 9.27410247e-74 3.74918763e-73]\n",
      " [2.84974232e-33 4.19675592e-05 2.88072638e-05 2.01589732e-05\n",
      "  1.42446654e-05 5.89807936e-06 2.59572127e-06 1.97348798e-06\n",
      "  4.73181243e-07 1.59997870e-07 9.48628679e-08 7.04194409e-08\n",
      "  5.22349092e-08 4.08431651e-08 2.74740211e-08 2.14185920e-08\n",
      "  1.61363518e-08 4.91451158e-09 2.12701523e-09 6.82363785e-11\n",
      "  6.03120392e-12 1.08377188e-12 8.44570820e-13 3.56454342e-13\n",
      "  2.74583206e-13 2.11825524e-14 5.42840743e-15 5.39844592e-38\n",
      "  1.19960899e-49 1.57226313e-52 8.24464782e-43 5.47938606e-40\n",
      "  9.10401594e-42 2.54725657e-52 7.39563401e-46 7.14041942e-46\n",
      "  2.59610885e-43 1.04564532e-50 8.49616209e-41 1.29115779e-48\n",
      "  1.99874233e-45 2.28553375e-40 2.95966870e-46 2.13301422e-51\n",
      "  3.45850738e-51 2.50125053e-47 7.85709450e-50 2.46437232e-46\n",
      "  1.77028796e-46 6.64968242e-49 3.63057980e-51 1.73237297e-39\n",
      "  1.25325927e-48 1.43944621e-50 6.23474925e-45 2.15957338e-46\n",
      "  3.65880090e-49 9.22570295e-49 1.78836745e-49 1.40785883e-46\n",
      "  1.31319109e-42 1.04965020e-51 1.53947325e-50 7.61412936e-49\n",
      "  1.54371743e-59 1.48924195e-53 6.87283944e-48 1.32150453e-50\n",
      "  4.01842089e-48 1.53576514e-50 3.92876693e-52 9.78429430e-49\n",
      "  1.00661882e-53 8.29837398e-46 9.80922246e-53 2.12096272e-54\n",
      "  3.66038259e-57 2.65091409e-69 9.69480023e-61 9.52903470e-48\n",
      "  8.78721454e-66 9.16182772e-58 3.48922300e-57 2.92258408e-54\n",
      "  3.13464665e-78 1.05996124e-61 2.37894282e-65 1.97505881e-67\n",
      "  1.74075939e-64 2.49393033e-63 1.20186618e-73 8.28938589e-44\n",
      "  3.62147791e-44 2.13524780e-44 1.16176769e-44 3.03458525e-45\n",
      "  2.17761738e-45 1.28813576e-45 6.01861896e-46 3.37029957e-46]]\n"
     ]
    }
   ],
   "source": [
    "print(alphas)"
   ]
  },
  {
   "cell_type": "markdown",
   "id": "3575da62",
   "metadata": {},
   "source": [
    "### Avoiding overflow"
   ]
  },
  {
   "cell_type": "markdown",
   "id": "16d2fb0f",
   "metadata": {},
   "source": [
    "To avoid overflow in the calculations of gamma and beta, we can rewrite them as exponentials ($\\alpha = e^{l}$) and compute $l$ instead; in this way, all the products turn into sums and the algorithm is robust against overflow even for larger N."
   ]
  },
  {
   "cell_type": "code",
   "execution_count": 60,
   "id": "1cd1e6c0",
   "metadata": {},
   "outputs": [],
   "source": [
    "def forward_opt(x, A, b, pi=prob[0]):\n",
    "    T = len(x)\n",
    "    alpha = np.zeros((2,T))\n",
    "    l = np.zeros((2,T))\n",
    "\n",
    "    alpha[:, 0] = pi * b[:, 0]\n",
    "    l[0,0] = np.log(alpha[0,0])\n",
    "    l[1,0] = np.log(alpha[1,0])\n",
    "\n",
    "    y = np.zeros((2))\n",
    "    for t in range(1, T):\n",
    "        for j in range(2):\n",
    "            y[0] = np.log(b[j,t])+np.log(A[0,j])+l[0,t-1]\n",
    "            y[1] = np.log(b[j,t])+np.log(A[1,j])+l[1,t-1]\n",
    "            l[j,t] = np.log(np.exp(y[0])+np.exp(y[1]))\n",
    "            ymax = y.max()\n",
    "            l[j,t] = ymax+np.log(np.exp(y[0]-ymax)+np.exp(y[1]-ymax))\n",
    "            \n",
    "           # alpha[j,t] = np.exp(l[j,t])\n",
    "    return l"
   ]
  },
  {
   "cell_type": "code",
   "execution_count": 61,
   "id": "8f57fed3",
   "metadata": {},
   "outputs": [],
   "source": [
    "b=calculate_emission_matrix(B_pars, x)\n",
    "alphas=forward_algorithm(x, A, b, pi=prob[0])\n",
    "alphas_opt = np.exp(forward_opt(x,A,b,prob[0]))"
   ]
  },
  {
   "cell_type": "code",
   "execution_count": 62,
   "id": "912ad5e3",
   "metadata": {},
   "outputs": [
    {
     "name": "stdout",
     "output_type": "stream",
     "text": [
      "Alphas calculate directly: \n",
      "\n",
      "[[5.66257338e-22 2.00828396e-22 1.56610975e-22 6.21282070e-23\n",
      "  2.83416173e-23 2.19909481e-23 1.38805271e-23 1.06852401e-23\n",
      "  8.23554505e-24 6.04058106e-24]\n",
      " [1.99874233e-45 2.28553375e-40 2.95966870e-46 2.13301422e-51\n",
      "  3.45850738e-51 2.50125053e-47 7.85709450e-50 2.46437232e-46\n",
      "  1.77028796e-46 6.64968242e-49]] \n",
      "\n",
      "\n",
      "Alphas with log-sum-exp trick: \n",
      "\n",
      "[[5.66257338e-22 2.00828396e-22 1.56610975e-22 6.21282070e-23\n",
      "  2.83416173e-23 2.19909481e-23 1.38805271e-23 1.06852401e-23\n",
      "  8.23554505e-24 6.04058106e-24]\n",
      " [1.99874233e-45 2.28553375e-40 2.95966870e-46 2.13301422e-51\n",
      "  3.45850738e-51 2.50125053e-47 7.85709450e-50 2.46437232e-46\n",
      "  1.77028796e-46 6.64968242e-49]]\n"
     ]
    }
   ],
   "source": [
    "print('Alphas calculate directly: \\n')\n",
    "print(alphas[:,40:50], '\\n\\n')\n",
    "print('Alphas with log-sum-exp trick: \\n')\n",
    "print(alphas_opt[:,40:50],)"
   ]
  },
  {
   "cell_type": "code",
   "execution_count": 63,
   "id": "a5be1b02",
   "metadata": {},
   "outputs": [],
   "source": [
    "def backward_opt(x, A, b):\n",
    "    T = len(x)\n",
    "    beta = np.zeros((2,T))\n",
    "    l = np.zeros((2,T))\n",
    "\n",
    "    beta[:, -1] = 1\n",
    "    l[0,-1] = np.log(beta[0,-1])\n",
    "    l[1,-1] = np.log(beta[1,-1])\n",
    "\n",
    "    y = np.zeros((2))\n",
    "    for t in range(T-2, -1, -1):\n",
    "        for j in range(2):\n",
    "            y[0] = np.log(b[0,t+1])+np.log(A[j,0])+l[0,t+1]\n",
    "            y[1] = np.log(b[1,t+1])+np.log(A[j,1])+l[1,t+1]\n",
    "            ymax = y.max()\n",
    "            l[j,t] = ymax+np.log(np.exp(y[0]-ymax)+np.exp(y[1]-ymax))\n",
    "            \n",
    "           # beta[j,t] = np.exp(l[j,t])\n",
    "    return l"
   ]
  },
  {
   "cell_type": "code",
   "execution_count": 64,
   "id": "c798ad61",
   "metadata": {},
   "outputs": [],
   "source": [
    "b = calculate_emission_matrix(B_pars, x)\n",
    "betas = backward_algorithm(x, A, b)\n",
    "betas_opt = np.exp(backward_opt(x,A,b))"
   ]
  },
  {
   "cell_type": "code",
   "execution_count": 65,
   "id": "ed08cf9e",
   "metadata": {},
   "outputs": [
    {
     "name": "stdout",
     "output_type": "stream",
     "text": [
      "betas calculate directly: \n",
      "\n",
      "[[5.95188680e-25 1.67819872e-24 2.15202004e-24 5.42474946e-24\n",
      "  1.18916981e-23 1.53258494e-23 2.42807751e-23 3.15416362e-23\n",
      "  4.09238193e-23 5.57942943e-23]\n",
      " [1.21467078e-26 3.42489535e-26 4.39187763e-26 1.10709173e-25\n",
      "  2.42687717e-25 3.12772436e-25 4.95526022e-25 6.43706862e-25\n",
      "  8.35179986e-25 1.13865907e-24]] \n",
      "\n",
      "\n",
      "betas with log-sum-exp trick: \n",
      "\n",
      "[[5.95188680e-25 1.67819872e-24 2.15202004e-24 5.42474946e-24\n",
      "  1.18916981e-23 1.53258494e-23 2.42807751e-23 3.15416362e-23\n",
      "  4.09238193e-23 5.57942943e-23]\n",
      " [1.21467078e-26 3.42489535e-26 4.39187763e-26 1.10709173e-25\n",
      "  2.42687717e-25 3.12772436e-25 4.95526022e-25 6.43706862e-25\n",
      "  8.35179986e-25 1.13865907e-24]]\n"
     ]
    }
   ],
   "source": [
    "print('betas calculate directly: \\n')\n",
    "print(betas[:,40:50], '\\n\\n')\n",
    "print('betas with log-sum-exp trick: \\n')\n",
    "print(betas_opt[:,40:50],)"
   ]
  },
  {
   "cell_type": "markdown",
   "id": "593cfc71",
   "metadata": {},
   "source": [
    "## Gamma and Psi\n",
    "\\begin{equation}\n",
    "\\gamma_t(i) = \\frac{\\alpha_t(i)\\beta_t(i)}{\\sum_{j=1}^{N}\\alpha_t(j)\\beta_t(j)}\n",
    "\\end{equation}\n",
    "\n",
    "where $N$ is the number of states in the HMM, $\\alpha_t(i)$ is computed at time $t$ and state $i$, and $\\beta_t(i)$ is computed at time $t$ and state $i$. This formula computes the probability of being in state $i$ at time $t$, given the observed sequence and the HMM parameters.\n",
    "\n",
    "The formula for the psi value at time step $t$, current state $i$, and next state $j$ is:\n",
    "\n",
    "\\begin{equation}\n",
    "\\psi_t(i,j) = \\frac{\\alpha_t(i)a_{ij}b_j(x_{t+1})\\beta_{t+1}(j)}{\\sum_{i=1}^{N}\\sum_{j=1}^{N}\\alpha_t(i)a_{ij}b_j(x_{t+1})\\beta_{t+1}(j)}\n",
    "\\end{equation}\n",
    "\n",
    "where $N$ is the number of states in the HMM, $a_{ij}$ is the transition probability from state $i$ to state $j$, $b_j(x_{t+1})$ is the emission probability of the observation $x_{t+1}$ given state $j$, and $\\beta_{t+1}(j)$ is the backward variable at time $t+1$ and state $j$. "
   ]
  },
  {
   "cell_type": "code",
   "execution_count": 66,
   "id": "eaf73c2b",
   "metadata": {},
   "outputs": [],
   "source": [
    "#gamma[0][i] = alpha[0][i]*beta[0][i]/(alpha[0][i]*beta[0][i]+alpha[1][i]*beta[1][i] )\n",
    "#gamma[1][i] =  alpha[1][i]*beta[1][i]/(alpha[0][i]*beta[0][i]+alpha[1][i]*beta[1][i] )\n",
    "  \n",
    "def get_gamma(x, alpha, beta):\n",
    "    n = alpha.shape[0]  # number of states\n",
    "    T = len(x)\n",
    "    gamma = np.zeros((n, T))\n",
    "\n",
    "    for t in range(T):\n",
    "        norm = np.sum(alpha[:, t] * beta[:, t]) #dot product\n",
    "        for i in range(n):\n",
    "            gamma[i, t] = alpha[i, t] * beta[i, t] / norm\n",
    "\n",
    "    return gamma\n",
    "\n",
    "\n",
    "def get_psi(x, beta, alpha, A, b):\n",
    "    n = alpha.shape[0]  # number of states\n",
    "    psi = np.zeros((n, n, len(x)))\n",
    "    for t in range(1, len(x)-1):\n",
    "        for j in range(n):  # z_t = j\n",
    "            for i in range(n):  # z_t+1 = i\n",
    "                psi[i][j][t] = calculate_psi(t, i, j, alpha, beta, A, b)\n",
    "    return psi\n",
    "\n",
    "\n",
    "def calculate_psi(t, i, j, alpha, beta, A, b):\n",
    "    denom = alpha[j][t] * beta[j][t] * A[j][i] * b[i][t+1]\n",
    "    return (alpha[i][t] * A[i][j] * beta[j][t+1] * b[j][t+1]) / denom\n",
    "    "
   ]
  },
  {
   "cell_type": "code",
   "execution_count": 67,
   "id": "d66d5e23",
   "metadata": {},
   "outputs": [
    {
     "name": "stdout",
     "output_type": "stream",
     "text": [
      "[[[0.00000000e+00 1.45683948e+00 1.42900452e+00 1.41519458e+00\n",
      "   2.41513627e+00 2.27223140e+00 1.31529621e+00 4.17068092e+00\n",
      "   2.95742214e+00 1.68662274e+00 1.34711191e+00 1.34812986e+00\n",
      "   1.27891433e+00 1.48661039e+00 1.28271835e+00 1.32735034e+00\n",
      "   3.28340905e+00 2.31052017e+00 3.11712796e+01 1.13138901e+01\n",
      "   5.56501238e+00 1.28322203e+00 2.36936606e+00 1.29816513e+00\n",
      "   1.29627063e+01 9.36910302e+03 1.32576101e+00 8.68052337e+00\n",
      "   1.91165430e+01 1.28142622e+00 1.56113571e+00 1.31932502e+00\n",
      "   8.78440981e+00 1.40931545e+00 1.39169420e+00 1.30608639e+00\n",
      "   3.30525620e+00 2.05911860e+00 1.72017750e+00 1.27896795e+00\n",
      "   2.81960793e+00 1.28233922e+00 2.52077089e+00 2.19211932e+00\n",
      "   1.28878561e+00 1.58430208e+00 1.29903745e+00 1.29745391e+00\n",
      "   1.36336968e+00 1.79062518e+00 1.20343166e+01 1.27978694e+00\n",
      "   1.37336028e+00 2.09676263e+00 1.64287514e+00 1.28464474e+00\n",
      "   1.30854778e+00 1.28248740e+00 1.75872707e+00 8.10217139e+00\n",
      "   1.29288176e+00 1.29273204e+00 1.51153062e+00 5.54411798e+00\n",
      "   1.33999324e+00 2.29598928e+00 1.44427881e+00 2.49576272e+00\n",
      "   1.57468599e+00 1.34094234e+00 2.57963189e+00 1.28126926e+00\n",
      "   1.25333888e+01 1.51584049e+00 1.31221714e+00 1.37342145e+00\n",
      "   5.86226806e+01 1.68422806e+00 3.92134217e+01 3.46542606e+00\n",
      "   1.42817744e+00 1.57900180e+00 3.67216857e+00 4.87673020e+02\n",
      "   1.38015511e+00 1.39478737e+00 1.81398226e+00 1.29016322e+00\n",
      "   1.29528661e+00 9.31509782e+00 3.39401925e+00 2.28895111e+00\n",
      "   1.69604573e+00 1.83793009e+00 3.82842332e+00 1.39353464e+00\n",
      "   1.69051853e+00 2.14025140e+00 8.75032984e+01 0.00000000e+00]\n",
      "  [0.00000000e+00 1.29793356e+14 1.59186258e-06 3.56603548e-02\n",
      "   3.50329739e+05 2.66331694e-02 6.33066077e-06 1.67258234e-09\n",
      "   6.83733715e-01 2.46181820e+07 4.05876202e-04 2.81627080e-02\n",
      "   1.07658229e-03 1.18466429e-04 1.36886856e+01 1.91222049e-01\n",
      "   4.03243180e+03 9.68441272e-13 3.55953297e-07 2.55591902e+19\n",
      "   3.45922901e-18 1.67132571e+06 3.19468529e-07 9.93631611e+03\n",
      "   1.04334238e+08 1.09897085e-04 2.24203603e-53 8.20462731e-09\n",
      "   2.34693096e+01 4.21920059e+11 7.93664922e+04 1.41710094e+00\n",
      "   1.05793976e-07 2.82562958e+08 9.16288058e+01 3.03905855e+04\n",
      "   2.15609471e-05 1.68809621e+12 2.20342938e-06 1.24077459e+05\n",
      "   4.45455530e+07 1.04341576e-04 2.24395157e-03 3.81785487e+02\n",
      "   5.88607676e+05 3.86346383e-01 2.59348518e+05 5.92539834e+01\n",
      "   3.42121470e-01 8.57789128e-01 3.38613572e+15 5.80591877e-08\n",
      "   1.06149893e+00 9.33078472e+07 4.58093544e+00 1.37003916e-01\n",
      "   2.11561161e+02 1.56228255e+01 1.19315077e+05 3.00032119e+07\n",
      "   6.54681938e-08 1.20099351e+03 5.53704534e+03 3.05357481e-08\n",
      "   8.48787061e+07 1.19208364e+08 1.96530797e-01 9.28088593e+04\n",
      "   4.64358488e-01 2.25396800e+00 8.12053786e+05 8.27584656e-04\n",
      "   6.34543011e+11 1.33089768e-05 1.82434070e+00 1.59513401e-01\n",
      "   1.21954154e-07 5.08324554e+10 7.40586179e+17 5.42639841e-16\n",
      "   1.04205660e+10 4.65273088e+02 5.53451523e+05 1.24989957e-17\n",
      "   3.15611827e+18 2.13946958e-02 1.33862268e+00 7.18859650e+04\n",
      "   1.17780502e+03 4.91965759e-04 2.35928963e+60 4.65607305e+00\n",
      "   1.30798444e-03 1.02199052e-01 5.79353584e-12 1.21788724e+03\n",
      "   1.23878733e-03 1.95869535e+06 5.04822421e-03 0.00000000e+00]]\n",
      "\n",
      " [[0.00000000e+00 1.63520024e-14 1.28280792e+06 5.61625286e+01\n",
      "   1.66496947e-05 1.93857345e+02 2.73273863e+05 1.03998344e+10\n",
      "   1.27920352e+01 1.15552654e-07 4.47109365e+03 6.45340683e+01\n",
      "   1.51927251e+03 1.86551622e+04 1.20199004e-01 9.21368077e+00\n",
      "   2.67351700e-03 5.51246998e+12 2.72970830e+09 5.00814418e-18\n",
      "   8.95267780e+18 9.85241091e-07 1.75726090e+07 1.69603370e-04\n",
      "   1.61051404e-06 3.32673108e+08 7.83949162e+52 9.18402301e+09\n",
      "   1.55710680e+01 3.89185850e-12 3.07074765e-05 1.22829536e+00\n",
      "   7.29397447e+08 7.02912392e-09 2.11375968e-02 5.61312539e-05\n",
      "   5.06690103e+05 2.51168706e-12 1.34291149e+06 1.31833697e-05\n",
      "   1.78473233e-07 1.57597186e+04 2.83173930e+03 1.25866155e-02\n",
      "   2.82185980e-06 6.49679460e+00 6.50668188e-06 2.84096790e-02\n",
      "   5.43309040e+00 3.73790997e+00 4.27699268e-14 2.82100850e+07\n",
      "   1.77684443e+00 4.71172970e-08 5.89189428e-01 1.20457296e+01\n",
      "   8.09362783e-03 1.05280183e-01 2.59239735e-05 2.18793845e-06\n",
      "   2.55321423e+07 1.39147806e-03 4.12625266e-04 1.00659870e+09\n",
      "   2.11546803e-08 4.42214503e-08 1.06138138e+01 6.71146225e-05\n",
      "   5.33991738e+00 7.97760373e-01 8.19465507e-06 1.98366524e+03\n",
      "   2.47557428e-10 1.72648313e+05 9.43855407e-01 1.18252539e+01\n",
      "   2.81795950e+10 5.58034063e-11 2.07631803e-15 2.21310286e+16\n",
      "   1.95737046e-10 5.35867371e-03 2.43649560e-05 1.90275268e+22\n",
      "   6.03535095e-19 9.09305671e+01 2.45814724e+00 2.31550224e-05\n",
      "   1.42448654e-03 4.23479238e+08 4.88255726e-60 1.12526095e+00\n",
      "   2.19923956e+03 3.30530170e+01 2.52985837e+12 1.59451443e-03\n",
      "   2.30697621e+03 2.33863630e-06 3.09538115e+04 0.00000000e+00]\n",
      "  [0.00000000e+00 1.45683948e+00 1.42900452e+00 1.41519458e+00\n",
      "   2.41513627e+00 2.27223140e+00 1.31529621e+00 4.17068092e+00\n",
      "   2.95742214e+00 1.68662274e+00 1.34711191e+00 1.34812986e+00\n",
      "   1.27891433e+00 1.48661039e+00 1.28271835e+00 1.32735034e+00\n",
      "   3.28340905e+00 2.31052017e+00 3.11712796e+01 1.13138901e+01\n",
      "   5.56501238e+00 1.28322203e+00 2.36936606e+00 1.29816513e+00\n",
      "   1.29627063e+01 3.90216702e+00 1.32576101e+00 8.68052337e+00\n",
      "   1.91165430e+01 1.28142622e+00 1.56113571e+00 1.31932502e+00\n",
      "   8.78440981e+00 1.40931545e+00 1.39169420e+00 1.30608639e+00\n",
      "   3.30525620e+00 2.05911860e+00 1.72017750e+00 1.27896795e+00\n",
      "   2.81960793e+00 1.28233922e+00 2.52077089e+00 2.19211932e+00\n",
      "   1.28878561e+00 1.58430208e+00 1.29903745e+00 1.29745391e+00\n",
      "   1.36336968e+00 1.79062518e+00 1.20343166e+01 1.27978694e+00\n",
      "   1.37336028e+00 2.09676263e+00 1.64287514e+00 1.28464474e+00\n",
      "   1.30854778e+00 1.28248740e+00 1.75872707e+00 8.10217139e+00\n",
      "   1.29288176e+00 1.29273204e+00 1.51153062e+00 5.54411798e+00\n",
      "   1.33999324e+00 2.29598928e+00 1.44427881e+00 2.49576272e+00\n",
      "   1.57468599e+00 1.34094234e+00 2.57963189e+00 1.28126926e+00\n",
      "   1.25333888e+01 1.51584049e+00 1.31221714e+00 1.37342145e+00\n",
      "   5.86226806e+01 1.68422806e+00 3.92134217e+01 3.46542606e+00\n",
      "   1.42817744e+00 1.57900180e+00 3.67216857e+00 4.87673020e+02\n",
      "   1.38015511e+00 1.39478737e+00 1.81398226e+00 1.29016322e+00\n",
      "   1.29528661e+00 2.23655499e+04 3.39401925e+00 2.28895111e+00\n",
      "   1.69604573e+00 1.83793009e+00 3.82842332e+00 1.39353464e+00\n",
      "   1.69051853e+00 2.14025140e+00 1.78578160e+00 0.00000000e+00]]]\n"
     ]
    }
   ],
   "source": [
    "gamma=get_gamma(x, alphas, betas)\n",
    "psi=get_psi(x, betas, alphas, A, b)\n",
    "print(psi)"
   ]
  },
  {
   "cell_type": "code",
   "execution_count": null,
   "id": "59f32543",
   "metadata": {},
   "outputs": [],
   "source": []
  },
  {
   "cell_type": "markdown",
   "metadata": {},
   "source": [
    "### Viterbi Algorithm"
   ]
  },
  {
   "cell_type": "markdown",
   "metadata": {},
   "source": [
    "In Viterbi Algorithm we will compute the most likely hidden sequence of the hidden states($z_{1:T}$) that given the visible state($x_{1:T}$).\n",
    "\n",
    "$$z^{*} = {argmax} \\space P(z|x)$$\n",
    "\\\n",
    "The Viterbi algorithm is an efficient way to make an inference, or prediction, to the hidden states given the model parameters are optimized, and given the observed data. It is best visualized by a trellis to find out how the path is select from a time step to the next. \n",
    "\\\n",
    "We will compute $\\mu$ for each state which shows us the most likely.\\\n",
    "$$\\mu_{z_1} = P(z_1,x_1) = \\pi_{i} b_{i}(x) \\space \\space \\space \\space \\space  for \\space the \\space initial \\space state $$\n",
    "\\\n",
    "$$\\mu_{z_i} = max[P(x_t|z_t)P(z_{t})|z_{t-1} \\mu_{t-1}(z_{t-1})]\\space \\space \\space \\space \\space  for \\space other  \\space states $$"
   ]
  },
  {
   "cell_type": "code",
   "execution_count": 111,
   "metadata": {},
   "outputs": [],
   "source": [
    "def viterbi(x, A, b, pi =prob[0]): #maybe need the end state\n",
    "    \"\"\"our variables\n",
    "        x: observed sequence (array of shape (T,))\n",
    "        A: transition probability matrix (array of shape (2, 2))\n",
    "        b: emission probability matrix (array of shape (2, T))\n",
    "        pi:initial state distribution (array of shape (2,))\n",
    "        output : mu matrix (array of shape (2,T))\n",
    "    \"\"\"\n",
    "    T = len(x)\n",
    "    T_1 = np.zeros((2,T))\n",
    "    mu= np.zeros((2,T))\n",
    "    mu [:,0]= pi*b[:,0]\n",
    "    T_1[:,0] = pi*b[:,0]\n",
    "\n",
    "        \n",
    "    for t in range(1,T):\n",
    "        for j in range(2):\n",
    "\n",
    "            T_1[j,t] =np.sum(mu[:,t-1]*A[:,j])*b[j,t]\n",
    "        for k in range(2):\n",
    "            mu[k,t] =max(T_1[k,:t])\n",
    "                   \n",
    "    return mu\n",
    "    \n",
    "    \n",
    "    "
   ]
  },
  {
   "cell_type": "code",
   "execution_count": 127,
   "metadata": {},
   "outputs": [
    {
     "name": "stdout",
     "output_type": "stream",
     "text": [
      "mu is: \n",
      " [[3.81169531e-02 3.81169531e-02 3.81169531e-02 3.81169531e-02\n",
      "  3.81169531e-02 3.81169531e-02 3.81169531e-02 3.81169531e-02\n",
      "  3.81169531e-02 3.81169531e-02 3.81169531e-02 3.81169531e-02\n",
      "  3.81169531e-02 3.81169531e-02 3.81169531e-02 3.81169531e-02\n",
      "  3.81169531e-02 3.81169531e-02 3.81169531e-02 3.81169531e-02\n",
      "  3.81169531e-02 3.81169531e-02 3.81169531e-02 3.81169531e-02\n",
      "  3.81169531e-02 3.81169531e-02 3.81169531e-02 3.81169531e-02\n",
      "  3.81169531e-02 3.81169531e-02 3.81169531e-02 3.81169531e-02\n",
      "  3.81169531e-02 3.81169531e-02 3.81169531e-02 3.81169531e-02\n",
      "  3.81169531e-02 3.81169531e-02 3.81169531e-02 3.81169531e-02\n",
      "  3.81169531e-02 3.81169531e-02 3.81169531e-02 3.81169531e-02\n",
      "  3.81169531e-02 3.81169531e-02 3.81169531e-02 3.81169531e-02\n",
      "  3.81169531e-02 3.81169531e-02 3.81169531e-02 3.81169531e-02\n",
      "  3.81169531e-02 3.81169531e-02 3.81169531e-02 3.81169531e-02\n",
      "  3.81169531e-02 3.81169531e-02 3.81169531e-02 3.81169531e-02\n",
      "  3.81169531e-02 3.81169531e-02 3.81169531e-02 3.81169531e-02\n",
      "  3.81169531e-02 3.81169531e-02 3.81169531e-02 3.81169531e-02\n",
      "  3.81169531e-02 3.81169531e-02 3.81169531e-02 3.81169531e-02\n",
      "  3.81169531e-02 3.81169531e-02 3.81169531e-02 3.81169531e-02\n",
      "  3.81169531e-02 3.81169531e-02 3.81169531e-02 3.81169531e-02\n",
      "  3.81169531e-02 3.81169531e-02 3.81169531e-02 3.81169531e-02\n",
      "  3.81169531e-02 3.81169531e-02 3.81169531e-02 3.81169531e-02\n",
      "  3.81169531e-02 3.81169531e-02 3.81169531e-02 3.81169531e-02\n",
      "  3.81169531e-02 3.81169531e-02 3.81169531e-02 3.81169531e-02\n",
      "  3.81169531e-02 3.81169531e-02 3.81169531e-02 3.81169531e-02]\n",
      " [2.84974232e-33 2.84974232e-33 4.19675592e-05 5.33962055e-04\n",
      "  5.73731259e-04 9.26981404e-04 9.26981404e-04 9.26981404e-04\n",
      "  1.29619351e-03 1.29619351e-03 1.29619351e-03 1.29619351e-03\n",
      "  1.53965716e-03 1.53965716e-03 1.81212619e-03 1.81212619e-03\n",
      "  2.01916749e-03 2.01916749e-03 2.01916749e-03 2.01916749e-03\n",
      "  2.01916749e-03 2.01916749e-03 2.01916749e-03 2.17971983e-03\n",
      "  2.17971983e-03 2.27830556e-03 2.27830556e-03 2.27830556e-03\n",
      "  2.27830556e-03 2.27830556e-03 2.27830556e-03 2.27830556e-03\n",
      "  2.27830556e-03 2.27830556e-03 2.27830556e-03 2.27830556e-03\n",
      "  2.27830556e-03 2.27830556e-03 2.27830556e-03 2.27830556e-03\n",
      "  2.27830556e-03 2.27830556e-03 2.27830556e-03 2.27830556e-03\n",
      "  2.27830556e-03 2.27830556e-03 2.27830556e-03 2.27830556e-03\n",
      "  2.27830556e-03 2.27830556e-03 2.27830556e-03 2.27830556e-03\n",
      "  2.27830556e-03 2.27830556e-03 2.27830556e-03 2.27830556e-03\n",
      "  2.27830556e-03 2.27830556e-03 2.27830556e-03 2.27830556e-03\n",
      "  2.27830556e-03 2.27830556e-03 2.27830556e-03 2.27830556e-03\n",
      "  2.27830556e-03 2.27830556e-03 2.27830556e-03 2.27830556e-03\n",
      "  2.27830556e-03 2.27830556e-03 2.27830556e-03 2.27830556e-03\n",
      "  2.27830556e-03 2.27830556e-03 2.27830556e-03 2.27830556e-03\n",
      "  2.27830556e-03 2.27830556e-03 2.27830556e-03 2.27830556e-03\n",
      "  2.27830556e-03 2.27830556e-03 2.27830556e-03 2.27830556e-03\n",
      "  2.27830556e-03 2.27830556e-03 2.27830556e-03 2.27830556e-03\n",
      "  2.27830556e-03 2.27830556e-03 2.27830556e-03 2.27830556e-03\n",
      "  2.27830556e-03 2.27830556e-03 2.27830556e-03 2.27830556e-03\n",
      "  2.27830556e-03 2.27830556e-03 2.27830556e-03 2.27830556e-03]]\n"
     ]
    }
   ],
   "source": [
    "prob = np.array([.5,.5])\n",
    "A = np.array([[.98,.02],[.02,.98]])\n",
    "b=calculate_emission_matrix(B_pars, x)\n",
    "mu= viterbi(x,A,b,pi=prob[0])\n",
    "print(\"mu is:\", '\\n', mu)"
   ]
  },
  {
   "cell_type": "code",
   "execution_count": null,
   "metadata": {},
   "outputs": [],
   "source": []
  }
 ],
 "metadata": {
  "kernelspec": {
   "display_name": "Python 3",
   "language": "python",
   "name": "python3"
  },
  "language_info": {
   "codemirror_mode": {
    "name": "ipython",
    "version": 3
   },
   "file_extension": ".py",
   "mimetype": "text/x-python",
   "name": "python",
   "nbconvert_exporter": "python",
   "pygments_lexer": "ipython3",
   "version": "3.8.10"
  }
 },
 "nbformat": 4,
 "nbformat_minor": 5
}
